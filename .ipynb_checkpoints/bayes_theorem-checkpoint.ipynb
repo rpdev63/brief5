{
 "cells": [
  {
   "cell_type": "markdown",
   "id": "56529655",
   "metadata": {},
   "source": [
    "# The `Bayes Theorem` "
   ]
  },
  {
   "cell_type": "code",
   "execution_count": 14,
   "id": "df77509b",
   "metadata": {},
   "outputs": [],
   "source": [
    "import pandas as pd\n",
    "import numpy as np"
   ]
  },
  {
   "cell_type": "markdown",
   "id": "4e80ea15",
   "metadata": {},
   "source": [
    "Do you remember this theorem covered during the lecture ? \n",
    "\n",
    "* The Bayes Theorem allows you to compute `a conditional probability`.\n",
    "* It is widely used in Machine Learning to `update your knowledge`\n",
    "* Despite its pretty simple formula, it can `highlight unexpected insights`\n",
    "\n",
    "🧑🏻‍🏫 What is the `Bayes Theorem` ? According to [Brilliant](https://brilliant.org/wiki/bayes-theorem/) :\n",
    "\n",
    "> Bayes' theorem is a formula that describes how to update the probabilities of hypotheses (A) when given evidence (Data).\n",
    "\n",
    "\n",
    "🧮 The formula is the following:\n",
    "\n",
    "$$ \\mathbb{P}(A | Data) =  \\mathbb{P}(A) \\times \\frac{\\mathbb{P}(Data | A) }{\\mathbb{P}(Data)}$$"
   ]
  },
  {
   "cell_type": "markdown",
   "id": "232ea2bd",
   "metadata": {},
   "source": [
    "## 0) Challenge context: Should we play sport outside expecting some weather conditions ?"
   ]
  },
  {
   "cell_type": "markdown",
   "id": "004d0409",
   "metadata": {},
   "source": [
    "* In this challenge, we'll try to recompute this formula.\n",
    "\n",
    "* We have a dataset with `weather conditions` (Rain, Sunny, Overcast) and `play` (Yes, No) suggesting whether a sport game should be played based on the weather conditions."
   ]
  },
  {
   "cell_type": "code",
   "execution_count": 15,
   "id": "a559e423",
   "metadata": {},
   "outputs": [
    {
     "name": "stdout",
     "output_type": "stream",
     "text": [
      "     weather play\n",
      "0      Sunny   No\n",
      "1   Overcast  Yes\n",
      "2      Rainy  Yes\n",
      "3      Sunny  Yes\n",
      "4      Sunny  Yes\n",
      "5   Overcast  Yes\n",
      "6      Rainy   No\n",
      "7      Rainy   No\n",
      "8      Sunny  Yes\n",
      "9      Rainy  Yes\n",
      "10     Sunny   No\n",
      "11  Overcast  Yes\n",
      "12  Overcast  Yes\n",
      "13     Rainy   No\n"
     ]
    }
   ],
   "source": [
    "weather_data_example = ['Sunny', 'Overcast', 'Rainy', 'Sunny', 'Sunny', 'Overcast', 'Rainy', 'Rainy', 'Sunny',\n",
    "'Rainy', 'Sunny', 'Overcast', 'Overcast', 'Rainy']\n",
    "\n",
    "play_data_example = ['No', 'Yes', 'Yes', 'Yes', 'Yes', 'Yes', 'No', 'No', 'Yes', 'Yes', 'No', 'Yes', 'Yes', 'No']\n",
    "\n",
    "#create a dict data where the first (key, value) is weather and weather_data_example\n",
    "#and second (key, value) is play and play_data_example\n",
    "data = { 'weather' : weather_data_example,\n",
    "       'play' : play_data_example\n",
    "       }\n",
    "\n",
    "\n",
    "# convert data into a data frame df and print df\n",
    "df = pd.DataFrame(data)\n",
    "print(df)\n",
    "\n"
   ]
  },
  {
   "cell_type": "markdown",
   "id": "6acb75b8",
   "metadata": {},
   "source": [
    "🚀 Let's compute $ \\large P(play \\mid weather) = P(play) \\times \\frac{P(weather \\mid play)}{P(weather)} $"
   ]
  },
  {
   "cell_type": "markdown",
   "id": "5a462a47",
   "metadata": {},
   "source": [
    "## 1) Warm-up : understanding the numbers with a `frequency table`"
   ]
  },
  {
   "cell_type": "markdown",
   "id": "e3a59a45",
   "metadata": {},
   "source": [
    "✍️ Grab a pen + a piece of paper and complete the **`frequency table`**:\n",
    "\n",
    "| Weather  | Played | No | Total |\n",
    "|----------|------|----|-------|\n",
    "| Sunny    |     |   |      |\n",
    "| Overcast |     |   |      |\n",
    "| Rainy    |     |   |      |\n",
    "| Total    |     |   |   14  |\n",
    "\n",
    "<details>\n",
    "    <summary>Answer here</summary>\n",
    "    \n",
    "| Weather  | Played | No | Total |\n",
    "|----------|------|----|-------|\n",
    "| Sunny    | 3    | 2  | 5     |\n",
    "| Overcast | 4    | 0  | 4     |\n",
    "| Rainy    | 2    | 3  | 5     |\n",
    "| Total    | 9    | 5  | 14    |     \n",
    "</details>"
   ]
  },
  {
   "cell_type": "markdown",
   "id": "c2409a4e",
   "metadata": {},
   "source": [
    "## 2) Prior probability : $ \\mathbb{P}(play)$"
   ]
  },
  {
   "cell_type": "markdown",
   "id": "b3db2dc9",
   "metadata": {},
   "source": [
    "🤔 What is the theoretical probability of a game being played ❓\n",
    "\n",
    "Look at the numbers in your previous table.\n",
    "\n",
    "<details>\n",
    "    <summary>Answer</summary>\n",
    "    \n",
    "| Weather  | Played | No | Total |\n",
    "|----------|------|----|-------|\n",
    "| Total    | 9    | 5  | 14    |     \n",
    "    \n",
    "$ \\mathbb{P}(played) = \\frac{9}{14} = 64.29 \\% $\n",
    "</details>"
   ]
  },
  {
   "cell_type": "markdown",
   "id": "31dcb1c1",
   "metadata": {},
   "source": [
    "👩🏻‍💻 Code the `prior_probability` function to compute the result."
   ]
  },
  {
   "cell_type": "code",
   "execution_count": 16,
   "id": "797a5296",
   "metadata": {},
   "outputs": [],
   "source": [
    "def prior_probability(played: str, play_data: list) -> float:\n",
    "    '''\n",
    "    Returns P(played)\n",
    "    '''\n",
    "    yes_count, no_count = 0,0\n",
    "    for value in play_data :\n",
    "        if value == 'Yes':\n",
    "            yes_count += 1\n",
    "        if value == 'No':\n",
    "            no_count += 1\n",
    "    if played == \"Yes\" :\n",
    "        return yes_count / len(play_data)\n",
    "    elif played == \"No\" :\n",
    "        return no_count / len(play_data)\n",
    "    else :\n",
    "        return \"erreur\"\n",
    "    \n",
    "\n",
    "# 👀 Run the following to test your code.\n",
    "# If nothing shows, your function works. Otherwise, inspect your code to fix it!\n",
    "assert(round(prior_probability(\"Yes\", play_data_example),4) == 0.6429)"
   ]
  },
  {
   "cell_type": "code",
   "execution_count": 17,
   "id": "c8d6bd9b",
   "metadata": {},
   "outputs": [
    {
     "name": "stdout",
     "output_type": "stream",
     "text": [
      "The probability that a match will be played is 64.29%\n"
     ]
    }
   ],
   "source": [
    "p= prior_probability(\"Yes\", play_data_example)\n",
    "print(\"The probability that a match will be played is \"+\"{:.2%}\".format(p))"
   ]
  },
  {
   "cell_type": "code",
   "execution_count": 6,
   "id": "1815b19b",
   "metadata": {
    "tags": [
     "delete"
    ]
   },
   "outputs": [],
   "source": [
    "# A PYTHONIC SOLUTION  ( list comprehension)\n",
    "def prior_probability_pythonic(played: str, play_data: list) -> float:\n",
    "    yes_list = [x for x in play_data if x == 'Yes']\n",
    "    no_list = [x for x in play_data if x == 'No']\n",
    "    if played == \"Yes\" :\n",
    "        return len(yes_list) / len(play_data)\n",
    "    elif played == \"No\" :\n",
    "        return len(no_list) / len(play_data)\n",
    "    else :\n",
    "        return \"erreur\"\n",
    "        \n",
    "    \n",
    "prior_probability_pythonic(\"Yes\", play_data_example)\n",
    "# 👀 Run the following to test your code.\n",
    "# If nothing shows, your function works. Otherwise, inspect your code to fix it!\n",
    "assert(round(prior_probability_pythonic(\"Yes\", play_data_example),4) == 0.6429)"
   ]
  },
  {
   "cell_type": "code",
   "execution_count": 18,
   "id": "36c7930a",
   "metadata": {},
   "outputs": [
    {
     "name": "stdout",
     "output_type": "stream",
     "text": [
      "The probability that a match will be played is 64.29%\n"
     ]
    }
   ],
   "source": [
    "p= prior_probability(\"Yes\", play_data_example)\n",
    "print(\"The probability that a match will be played is \"+\"{:.2%}\".format(p))"
   ]
  },
  {
   "cell_type": "code",
   "execution_count": 7,
   "id": "da48feed",
   "metadata": {
    "tags": [
     "delete"
    ]
   },
   "outputs": [],
   "source": [
    "# AN EVEN SHORTER SOLUTION WITH NUMPY\n",
    "def prior_probability_numpy_ic(played, play_data):\n",
    "    array = np.array(play_data)\n",
    "    counts_yes = np.count_nonzero(array == \"Yes\")\n",
    "    counts_no = np.count_nonzero(array == \"No\")\n",
    "    if played == \"Yes\" :\n",
    "        return counts_yes/ len(play_data)\n",
    "    elif played == \"No\" :\n",
    "        return counts_no / len(play_data)\n",
    "    else : \n",
    "        return \"erreur\"\n",
    "\n",
    "prior_probability_numpy_ic(\"Yes\", play_data_example)\n",
    "# 👀 Run the following to test your code.\n",
    "# If nothing shows, your function works. Otherwise, inspect your code to fix it!\n",
    "assert(round(prior_probability_numpy_ic(\"Yes\", play_data_example),4) == 0.6429)"
   ]
  },
  {
   "cell_type": "code",
   "execution_count": 19,
   "id": "531d47e2",
   "metadata": {},
   "outputs": [
    {
     "name": "stdout",
     "output_type": "stream",
     "text": [
      "The probability that a match will be played is 64.29%\n"
     ]
    }
   ],
   "source": [
    "p= prior_probability(\"Yes\", play_data_example)\n",
    "print(\"The probability that a match will be played is \"+\"{:.2%}\".format(p))"
   ]
  },
  {
   "cell_type": "markdown",
   "id": "ff8c6a36",
   "metadata": {},
   "source": [
    "☝️ FYI: These strange notations\n",
    "```python\n",
    "def prior_probability(played: bool, play_data: list) -> float:\n",
    "```\n",
    "are called **typing hints**\n",
    "\n",
    "They are optional in python, and used to let the reader know what type of arguments and output the function should accept/return. \n",
    "\n",
    "There also exist python libraries that enforce respect for these types, and raise error when not. \n",
    "It's a good practice to use these hits in very large projects to make sure nothing breaks silently.\n",
    "\n"
   ]
  },
  {
   "cell_type": "markdown",
   "id": "51576f50",
   "metadata": {},
   "source": [
    "## 3) Likelihood :  $ \\mathbb{P}(weather | play)$"
   ]
  },
  {
   "cell_type": "markdown",
   "id": "7d9aa17d",
   "metadata": {},
   "source": [
    "🤔 What is the theoretical probability of the weather being rainy knowing that a game was NOT played ❓\n",
    "\n",
    "Look at the numbers in your previous table.\n",
    "\n",
    "<details>\n",
    "    <summary>Answer</summary>\n",
    "    \n",
    "| Weather  | No | \n",
    "|----------|----|\n",
    "| Sunny    | 2  | \n",
    "| Overcast | 0  | \n",
    "| Rainy    | 3  | \n",
    "| Total    | 5  |         \n",
    "    \n",
    "$ \\mathbb{P}(play) = \\frac{3}{5} = 60 \\% $\n",
    "</details>"
   ]
  },
  {
   "cell_type": "code",
   "execution_count": 21,
   "id": "b59518fa",
   "metadata": {},
   "outputs": [],
   "source": [
    "def likelihood(weather, played, weather_data, play_data):\n",
    "    \n",
    "    '''TO DO: return P(weather|play)'''\n",
    "    data = { 'weather' : weather_data,\n",
    "       'play' : play_data\n",
    "       }\n",
    "    df = pd.DataFrame(data)\n",
    "    #On fait des nouveaux dataframes avec des filtres\n",
    "    df_filtered1= df.loc[(df['play'] == played)]    \n",
    "    df_filtered2 = df.loc[(df['weather'] == weather) & (df['play'] == played)]\n",
    "    return len(df_filtered2) / len(df_filtered1) \n",
    "  \n",
    "\n",
    "\n",
    "# 👀 Run the following to test your code.\n",
    "# If nothing shows, your function works. Otherwise, inspect your code to fix it!\n",
    "assert(likelihood(\"Rainy\", \"No\", weather_data_example, play_data_example) == 0.60)\n"
   ]
  },
  {
   "cell_type": "code",
   "execution_count": 20,
   "id": "870372a4",
   "metadata": {},
   "outputs": [
    {
     "name": "stdout",
     "output_type": "stream",
     "text": [
      "The probability that the weather is rainy knowing that the match was played is 60.00%\n"
     ]
    }
   ],
   "source": [
    "p = likelihood(\"Rainy\", \"No\", weather_data_example, play_data_example)\n",
    "print(\"The probability that the weather is rainy knowing that the match was played is \"+\"{:.2%}\".format(p))"
   ]
  },
  {
   "cell_type": "markdown",
   "id": "9b947555",
   "metadata": {},
   "source": [
    "## 4) Posterior probability : $ \\large P(play \\mid weather ) = P(play) \\times \\frac{P(weather \\mid play)}{P(weather)} $"
   ]
  },
  {
   "cell_type": "markdown",
   "id": "a27ea2a7",
   "metadata": {},
   "source": [
    "🔥 We can finally compute the posterior probability as: \n",
    "\n",
    "$$\\large \\text{posterior probability} = \\text{prior probability} \\times \\text{likelihood} \\times \\beta $$ \n",
    "\n",
    "where $ \\large \\beta = \\frac{1}{P(weather)} $ is _normalization factor_.\n",
    " \n",
    "<details>\n",
    "    <summary>Expected results</summary>\n",
    "\n",
    "Remember the table that you completed earlier ? \n",
    "\n",
    "| Weather  | Played | No | Total |\n",
    "|----------|------|----|-------|\n",
    "| Sunny    | 3    | 2  | 5     |\n",
    "| Overcast | 4    | 0  | 4     |\n",
    "| Rainy    | 2    | 3  | 5     |\n",
    "| Total    | 9    | 5  | 14    |   \n",
    "    \n",
    "Based on this table, we can compute $ \\mathbb{P}(played | weather) $\n",
    "    \n",
    "| Weather  | Proba(Played\\|Weather) | Proba(No\\|Weather) |\n",
    "|----------|----------------------|--------------------|\n",
    "| Sunny    | 0.6                  | 0.4                |\n",
    "| Overcast | 1.0                  | 0.0                |\n",
    "| Rainy    | 0.4                  | 0.6                |\n",
    "    \n",
    "</details>"
   ]
  },
  {
   "cell_type": "code",
   "execution_count": 22,
   "id": "51afbd0b",
   "metadata": {},
   "outputs": [],
   "source": [
    "def weather_probability(weather: str, weather_data: list) -> float:\n",
    "    weather_list = [x for x in weather_data if x == weather]\n",
    "    return len(weather_list) / len(weather_data_example)\n",
    "\n",
    "def posterior_probability(played, weather, weather_data, play_data):\n",
    "    '''TO DO: return P(play|weather)\n",
    "    '''    \n",
    "    # YOUR CODE \n",
    "    proba_played = prior_probability(played,play_data)\n",
    "    proba_weather = weather_probability(weather, weather_data)     \n",
    "    proba_weather_knowing_played = likelihood(weather,played, weather_data, play_data)\n",
    "    beta = 1 / proba_weather\n",
    "    \n",
    "    #  P(play | weather) = P(play) * P(weather|play) * ( 1 / P(weather))\n",
    "    return proba_played * proba_weather_knowing_played * beta\n",
    "\n"
   ]
  },
  {
   "cell_type": "code",
   "execution_count": 23,
   "id": "6214302c",
   "metadata": {},
   "outputs": [],
   "source": [
    "# 👀 Run the following cell to test your code\n",
    "assert(posterior_probability(\"Yes\", \"Sunny\", weather_data_example, play_data_example)==0.6)\n",
    "assert(posterior_probability(\"No\", \"Sunny\", weather_data_example, play_data_example)==0.4)\n",
    "assert(posterior_probability(\"Yes\", \"Overcast\", weather_data_example, play_data_example)==1.0)\n",
    "assert(posterior_probability(\"No\", \"Overcast\", weather_data_example, play_data_example)==0)\n",
    "assert(round(posterior_probability(\"Yes\", \"Rainy\", weather_data_example, play_data_example),1)==0.4)\n",
    "assert(posterior_probability(\"No\", \"Rainy\", weather_data_example, play_data_example)==0.6)"
   ]
  },
  {
   "cell_type": "markdown",
   "id": "0af8c636",
   "metadata": {},
   "source": [
    "## 5) Taking a step back to understand what you've done"
   ]
  },
  {
   "cell_type": "markdown",
   "id": "721a8746",
   "metadata": {},
   "source": [
    "Thanks to what you’ve learned in this challenge, could you answer these questions :\n",
    "\n",
    "1. _\"Matches are more likely to be played than not if the weather is sunny\"_ 👉 Is this statement correct ?\n",
    "2. If you know for sure that it will be raining during the next game 🤔, what is your best guess (probability) that the game will be canceled ?"
   ]
  },
  {
   "cell_type": "code",
   "execution_count": 24,
   "id": "06ef83d8",
   "metadata": {
    "tags": []
   },
   "outputs": [
    {
     "name": "stdout",
     "output_type": "stream",
     "text": [
      "Matches are played less often if the weather is Sunny\n",
      "Matches are played more often if the weather is Overcast\n",
      "Matches are played less often if the weather is Rainy\n"
     ]
    }
   ],
   "source": [
    "#YOUR CODE \n",
    "def get_result_knowing_weather(weather) -> str:\n",
    "    if likelihood(weather, \"Yes\", weather_data_example, play_data_example) > likelihood(weather, \"No\", weather_data_example, play_data_example):\n",
    "        return(\"Matches are played more often if the weather is {}\".format(weather))\n",
    "    elif likelihood(weather, \"Yes\", weather_data_example, play_data_example) < likelihood(weather, \"No\", weather_data_example, play_data_example):\n",
    "        return(\"Matches are played less often if the weather is {}\".format(weather))\n",
    "    else :\n",
    "        return(\"matches are played regardless of the weather {}\".format(weather))\n",
    "        \n",
    "print(get_result_knowing_weather(\"Sunny\"))\n",
    "print(get_result_knowing_weather(\"Overcast\"))\n",
    "print(get_result_knowing_weather(\"Rainy\"))"
   ]
  },
  {
   "cell_type": "code",
   "execution_count": 25,
   "id": "fbd7844e",
   "metadata": {
    "tags": []
   },
   "outputs": [
    {
     "name": "stdout",
     "output_type": "stream",
     "text": [
      "There is 60.00% chance that the match won't take place\n"
     ]
    }
   ],
   "source": [
    "# YOUR CODE \n",
    "result = posterior_probability(\"No\", \"Rainy\", weather_data_example, play_data_example)\n",
    "print(\"There is \"+\"{:.2%} chance that the match won't take place\".format(result))"
   ]
  },
  {
   "cell_type": "markdown",
   "id": "e8f05966",
   "metadata": {},
   "source": [
    "🏁 Congrats, you have a better idea of how the `Bayes formula` work !\n",
    "\n",
    "💾 Do not forget to `add/commit/push` your notebook\n",
    "\n",
    "\n",
    "\n",
    "▶️ If you are curious and/or impatient, you can already watch the [15-min Youtube video from 3Blue1Brown](https://www.youtube.com/watch?v=HZGCoVF3YvM) that we already mentioned in the lecture."
   ]
  },
  {
   "cell_type": "markdown",
   "id": "4c08fcc7",
   "metadata": {},
   "source": []
  },
  {
   "cell_type": "markdown",
   "id": "f78c7048",
   "metadata": {},
   "source": []
  }
 ],
 "metadata": {
  "kernelspec": {
   "display_name": "Python 3 (ipykernel)",
   "language": "python",
   "name": "python3"
  },
  "language_info": {
   "codemirror_mode": {
    "name": "ipython",
    "version": 3
   },
   "file_extension": ".py",
   "mimetype": "text/x-python",
   "name": "python",
   "nbconvert_exporter": "python",
   "pygments_lexer": "ipython3",
   "version": "3.9.12"
  },
  "vscode": {
   "interpreter": {
    "hash": "cf92aa13fedf815d5c8dd192b8d835913fde3e8bc926b2a0ad6cc74ef2ba3ca2"
   }
  }
 },
 "nbformat": 4,
 "nbformat_minor": 5
}
