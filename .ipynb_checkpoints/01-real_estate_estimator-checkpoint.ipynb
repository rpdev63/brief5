{
 "cells": [
  {
   "cell_type": "markdown",
   "metadata": {},
   "source": [
    "# 🏠 Real Estate estimator"
   ]
  },
  {
   "cell_type": "markdown",
   "metadata": {},
   "source": [
    "🎯In the following challenge, we will try to figure out whether there exists a ***LINEAR RELATIONSHIP*** between :\n",
    "- the **price** of a flat (our **target** for each flat)\n",
    "- and some usual **features** such as like surface area, bedrooms, etc..."
   ]
  },
  {
   "cell_type": "markdown",
   "metadata": {},
   "source": [
    "❗️ Pandas is forbidden in this challenge ❗️\n",
    "\n",
    "😁 Welcome to the [NumPy documentation](https://docs.scipy.org/doc/numpy/reference/) which will be your friend throughout this exercise.\n",
    "\n",
    "👉 You can also find help on this [NumPy cheatsheet](https://s3.amazonaws.com/assets.datacamp.com/blog_assets/Numpy_Python_Cheat_Sheet.pdf)"
   ]
  },
  {
   "cell_type": "code",
   "execution_count": 1,
   "metadata": {},
   "outputs": [],
   "source": [
    "# Load the NumPy library\n",
    "import numpy as np\n"
   ]
  },
  {
   "cell_type": "markdown",
   "metadata": {},
   "source": [
    "🌆 Suppose that we were able to collect data for 4 flats down below: \n",
    "- their **features**:\n",
    "    - `surface` (square feet)\n",
    "    - `bedrooms`\n",
    "    - `floors` \n",
    "- their **target**:\n",
    "    - `price` (in thousands of USD)\n",
    "\n",
    "|flats |surface (square feet)|bedrooms|floors|price (k USD)|\n",
    "|------|-------------|--------|------|------------|\n",
    "|flat1 |620|1|1|244|\n",
    "|flat2 |3280|4|2|671|\n",
    "|flat3 |1900|2|2|504|\n",
    "|flat4 |1320|3|3|510|\n",
    "\n",
    "👉 A first approach to **predict the price of an apartment** is to try to **find a linear relationship between the  target and the features** (*i.e. between the price and the (surface, bedrooms, floor)*), by solving the following **system of $n = 4$ linear equations with $p = 4$ unknown variables**: \n",
    "\n",
    "\n",
    "\n",
    "$$\\begin{cases}\n",
    "    244 = \\theta_0 + 620\\theta_1 + 1\\theta_2 + 1\\theta_3 \\\\\n",
    "    671 = \\theta_0 + 3280\\theta_1 + 4\\theta_2 + 2\\theta_3 \\\\\n",
    "    504 = \\theta_0 + 1900\\theta_1 + 2\\theta_2 + 2\\theta_3 \\\\\n",
    "    510 = \\theta_0 + 1320\\theta_1 + 3\\theta_2 + 3\\theta_3 \\\\\n",
    "\\end{cases}$$\n",
    "\n",
    "which can be translated into a matricial equation:\n",
    "\n",
    "$$Y = X\\theta$$\n",
    "\n",
    "$$\\begin{bmatrix}\n",
    "    244 \\\\\n",
    "    671 \\\\\n",
    "    504 \\\\\n",
    "    510\n",
    "\\end{bmatrix}_{4 \\times 1} = \\begin{bmatrix}\n",
    "    1 & 620 & 1 & 1 \\\\\n",
    "    1 & 3280 & 4 & 2 \\\\\n",
    "    1 & 1900 & 2 & 2 \\\\\n",
    "    1 & 1320 & 3 & 3\n",
    "\\end{bmatrix}_{4 \\times 4} \\begin{bmatrix}\n",
    "    \\theta_0 \\\\\n",
    "    \\theta_1 \\\\\n",
    "    \\theta_2 \\\\\n",
    "    \\theta_3\n",
    "\\end{bmatrix}_{4 \\times 1}$$\n",
    "\n",
    "where :\n",
    "* $Y$ is the **`target`**, the vector of `Price`\n",
    "* $X$ represents the **`matrix of features`**\n",
    "* $\\theta = \\begin{bmatrix}\n",
    "    \\theta_0 \\\\\n",
    "    \\theta_1 \\\\\n",
    "    \\theta_2 \\\\\n",
    "    \\theta_3\n",
    "\\end{bmatrix}$ (*theta*) is the vector of **coefficients/variables/unknowns** to be found\n",
    "\n",
    "----\n",
    "\n",
    "🤓 Here, we are using the Greek letter `theta` $\\theta = \\begin{bmatrix}\n",
    "    \\theta_0 \\\\\n",
    "    \\theta_1 \\\\\n",
    "    \\theta_2 \\\\\n",
    "    \\theta_3 \\\\\n",
    "\\end{bmatrix}$, to represent the coefficients of our **features**:\n",
    "\n",
    "- A flat with no surface, no bedroom and no floor would cost $\\theta_0$\n",
    "- An increase of one sqm - *holding the number of bedrooms and the floor  number constant* -  would increase the price by $\\theta_1$ thousand USD\n",
    "- An additional bedroom - *holding the surface and the floor number constant* -   would increase the price by $\\theta_2$ thousand USD\n",
    "- An increase of one floor number - *holding the surface and the number of bedrooms constant* - would increase the price by $\\theta_3$ thousand USD\n",
    "\n",
    "----\n",
    "\n",
    "😉 If we manage to solve this system of linear equations (i.e. if we find $\\theta_0$, $\\theta_1$, $\\theta_2$, $\\theta_3$), the price of any new flat could be estimated using the following formula: $$Y_{newflat} = X_{newflat} \\theta$$"
   ]
  },
  {
   "cell_type": "markdown",
   "metadata": {},
   "source": [
    "## (1) Define the matrix `X` of `features`:"
   ]
  },
  {
   "cell_type": "markdown",
   "metadata": {},
   "source": [
    "❓ Create a $(4,3)$ `numpy.ndarray` storing the values of the 3 features (surface, bedrooms, floors) for the 4 observations. "
   ]
  },
  {
   "cell_type": "code",
   "execution_count": 2,
   "metadata": {
    "tags": []
   },
   "outputs": [
    {
     "name": "stdout",
     "output_type": "stream",
     "text": [
      "[[ 620    1    1]\n",
      " [3280    4    2]\n",
      " [1900    2    2]\n",
      " [1320    3    3]]\n"
     ]
    }
   ],
   "source": [
    "#YOUR CODE \n",
    "\n",
    "\n",
    "x = np.ndarray(shape=(4,3),dtype=int)\n",
    "\n",
    "x = np.array([[620,1,1],[3280,4,2],[1900,2,2],[1320,3,3]])\n",
    "\n",
    "print(x)\n"
   ]
  },
  {
   "cell_type": "markdown",
   "metadata": {},
   "source": [
    "❓ Double-check the ***shape***, the ***size*** and the ***dim*** of this ***np.array***"
   ]
  },
  {
   "cell_type": "code",
   "execution_count": 3,
   "metadata": {
    "tags": []
   },
   "outputs": [
    {
     "name": "stdout",
     "output_type": "stream",
     "text": [
      "(4, 3)\n",
      "12\n",
      "2\n"
     ]
    }
   ],
   "source": [
    "print(x.shape)\n",
    "print(x.size)\n",
    "print(x.ndim)\n"
   ]
  },
  {
   "cell_type": "markdown",
   "metadata": {},
   "source": [
    "❓Add a \"constant\" vector of ones $ = \\begin{bmatrix}\n",
    "    1 \\\\\n",
    "    1 \\\\\n",
    "    1 \\\\\n",
    "    1 \\\\\n",
    "\\end{bmatrix}$ to create the $(4,4)$ matrix $X$ representing the linear system of equations\n",
    "\n",
    "<details>\n",
    "    <summary><i>Explanations</i></summary>\n",
    "\n",
    "🤔 As you've probably noticed, the linear system of equations includes a $\\theta_0$ coefficient which appears in the 4 equations. \n",
    "\n",
    "❗️ We need an additional feature to represent the y-intercept of the linear regression line \n",
    "\n",
    "_Note_ : we talk about an [affine relation](https://math.stackexchange.com/questions/275310/what-is-the-difference-between-linear-and-affine-function) rather than a strict linear relation between the `price` and the features \n",
    "    \n",
    "    \n",
    "</details>"
   ]
  },
  {
   "cell_type": "code",
   "execution_count": 4,
   "metadata": {},
   "outputs": [
    {
     "name": "stdout",
     "output_type": "stream",
     "text": [
      "[[1]\n",
      " [1]\n",
      " [1]\n",
      " [1]]\n"
     ]
    }
   ],
   "source": [
    "# Define x0 as a (4,1) vector filled with 1 with the fastest NumPy method\n",
    "\n",
    "#YOUR CODE \n",
    "x0 = np.ones((4,1),dtype=np.int16)\n",
    "print(x0)\n"
   ]
  },
  {
   "cell_type": "code",
   "execution_count": 5,
   "metadata": {},
   "outputs": [
    {
     "name": "stdout",
     "output_type": "stream",
     "text": [
      "[[   1  620    1    1]\n",
      " [   1 3280    4    2]\n",
      " [   1 1900    2    2]\n",
      " [   1 1320    3    3]]\n"
     ]
    }
   ],
   "source": [
    "# Use `numpy.hstack` to create the (4,4) matrix X by concatenating x0 to your previous (4,3) matrix\n",
    "#YOUR CODE\n",
    "x = np.hstack((x0,x))\n",
    "print(x)"
   ]
  },
  {
   "cell_type": "markdown",
   "metadata": {},
   "source": [
    "## (2) Define the vector `Y` of `Prices`"
   ]
  },
  {
   "cell_type": "markdown",
   "metadata": {},
   "source": [
    "$Y = \\begin{bmatrix}\n",
    "    244 \\\\\n",
    "    671 \\\\\n",
    "    504 \\\\\n",
    "    510\n",
    "\\end{bmatrix}$\n",
    "\n",
    "❓ In order to match our matricial representation $Y = X\\theta$, what should the shape of $Y$ be? Define $Y$ down below. ❓\n",
    "\n",
    "<details>\n",
    "    <summary><i>Hint</i></summary>\n",
    "\n",
    "Y should be a $(4,1)$ array, equivalent to a flat \"vector\", represented vertically\n",
    "</details>"
   ]
  },
  {
   "cell_type": "code",
   "execution_count": 6,
   "metadata": {
    "tags": []
   },
   "outputs": [
    {
     "name": "stdout",
     "output_type": "stream",
     "text": [
      "[[244]\n",
      " [671]\n",
      " [504]\n",
      " [510]]\n"
     ]
    }
   ],
   "source": [
    "Y = np.array([[244],[671],[504],[510]])\n",
    "print(Y)"
   ]
  },
  {
   "cell_type": "markdown",
   "metadata": {},
   "source": [
    "## (3) Find the solution of the system\n",
    "\n",
    "⏰Now, it's time to find the vector of coefficients $\\theta = \\begin{bmatrix}\n",
    "    \\theta_0 \\\\\n",
    "    \\theta_1 \\\\\n",
    "    \\theta_2 \\\\\n",
    "    \\theta_3\n",
    "\\end{bmatrix}$ !\n",
    "\n",
    "👍 The solution of the equation is:\n",
    " \n",
    "$$ \\large X\\theta = Y \n",
    "\\large \\Leftrightarrow X^{-1}X\\theta = X^{-1}Y \n",
    "\\large \\Leftrightarrow \\theta = X^{-1}Y\n",
    "$$\n",
    "\n",
    "where $\\large X^{-1}$ is the inverse of $\\large X$."
   ]
  },
  {
   "cell_type": "code",
   "execution_count": 45,
   "metadata": {},
   "outputs": [
    {
     "name": "stdout",
     "output_type": "stream",
     "text": [
      "[[ 1.64516129e+00 -3.33901662e-17 -2.90322581e-01 -3.54838710e-01]\n",
      " [-5.37634409e-04 -1.25213123e-19  1.07526882e-03 -5.37634409e-04]\n",
      " [ 3.70967742e-01  5.00000000e-01 -1.24193548e+00  3.70967742e-01]\n",
      " [-6.82795699e-01 -5.00000000e-01  8.65591398e-01  3.17204301e-01]]\n"
     ]
    }
   ],
   "source": [
    "\n",
    "#YOUR CODE\n",
    "xi = np.linalg.inv(x)\n",
    "\n",
    "print(xi)\n"
   ]
  },
  {
   "cell_type": "markdown",
   "metadata": {},
   "source": [
    "👉 You can check that the inversion worked by testing the following equality:\n",
    "\n",
    "$$X^{-1}X = I_4$$\n",
    "where $I_4$ is the $ 4 \\times 4 $ identity matrix $ \\begin{bmatrix}\n",
    "    1 & 0 & 0 & 0 \\\\\n",
    "    0 & 1 & 0 & 0 \\\\\n",
    "    0 & 0 & 1 & 0 \\\\\n",
    "    0 & 0 & 0 & 1\n",
    "\\end{bmatrix}$"
   ]
  },
  {
   "cell_type": "code",
   "execution_count": 46,
   "metadata": {},
   "outputs": [
    {
     "name": "stdout",
     "output_type": "stream",
     "text": [
      "[[1. 0. 0. 0.]\n",
      " [0. 1. 0. 0.]\n",
      " [0. 0. 1. 0.]\n",
      " [0. 0. 0. 1.]]\n"
     ]
    }
   ],
   "source": [
    "# Define I4 using the right NumPy method\n",
    "#YOUR CODE\n",
    "I4 = np.eye(4)\n",
    "print(I4)\n"
   ]
  },
  {
   "cell_type": "markdown",
   "metadata": {},
   "source": [
    "👉 Now compute $X^{-1}X$:"
   ]
  },
  {
   "cell_type": "code",
   "execution_count": 47,
   "metadata": {
    "tags": [
     "challengify"
    ]
   },
   "outputs": [
    {
     "data": {
      "text/plain": [
       "array([[ 1.00000000e+00, -1.70530257e-13, -4.44089210e-16,\n",
       "        -4.44089210e-16],\n",
       "       [-3.25260652e-19,  1.00000000e+00, -6.50521303e-19,\n",
       "        -4.33680869e-19],\n",
       "       [ 3.33066907e-16,  4.54747351e-13,  1.00000000e+00,\n",
       "         4.44089210e-16],\n",
       "       [-1.11022302e-16, -2.27373675e-13, -2.22044605e-16,\n",
       "         1.00000000e+00]])"
      ]
     },
     "execution_count": 47,
     "metadata": {},
     "output_type": "execute_result"
    }
   ],
   "source": [
    "np.matmul(xi,  x)"
   ]
  },
  {
   "cell_type": "markdown",
   "metadata": {},
   "source": [
    "❓Does it look like $I_4 = $ ❓\n",
    "\n",
    "⛔️ If it doesn't, you probably used the `*` operator to perform the multiplication between $X^{-1}$ and $X$. Here we want to perform the matrix product. You should find the right Numpy method to do so.\n",
    "\n",
    "✅ If it does, you might have noticed that you do not get exactly zeros and ones in the resulting product. To be sure, you can try the [`numpy.allclose()`](https://numpy.org/doc/stable/reference/generated/numpy.allclose.html?highlight=allclose#numpy.allclose) method to check your result:"
   ]
  },
  {
   "cell_type": "code",
   "execution_count": 48,
   "metadata": {
    "tags": []
   },
   "outputs": [
    {
     "name": "stdout",
     "output_type": "stream",
     "text": [
      "True\n"
     ]
    }
   ],
   "source": [
    "#YOUR CODE#YOUR CODE\n",
    "print(np.allclose(I4,np.matmul(xi,  x)))\n",
    "\n"
   ]
  },
  {
   "cell_type": "markdown",
   "metadata": {},
   "source": [
    "🎉 You are finally able to compute `theta` using the following formula: $ \\large \\theta = X^{-1}Y$:"
   ]
  },
  {
   "cell_type": "code",
   "execution_count": 49,
   "metadata": {
    "tags": []
   },
   "outputs": [
    {
     "name": "stdout",
     "output_type": "stream",
     "text": [
      "[[ 74.12903226]\n",
      " [  0.13655914]\n",
      " [-10.72580645]\n",
      " [ 95.93010753]]\n"
     ]
    }
   ],
   "source": [
    "#YOUR CODE\n",
    "#theta \n",
    "theta = np.matmul(xi,Y)\n",
    "print(theta)"
   ]
  },
  {
   "cell_type": "markdown",
   "metadata": {},
   "source": [
    "## (4) Estimation of a new flat price\n",
    "\n",
    "You finally solved the system finding $\\theta$ and are now able to estimate the `Price` (in thousands of $) of a 5th flat given these characteristics:\n",
    "\n",
    "- `Surface`: 3000 $ft^2$\n",
    "- `Bedrooms`: 5 \n",
    "- `Floors`: 1\n",
    "\n",
    "with the following formula:\n",
    "\n",
    "$$ \\large Y_{flat5} = X_{flat5}\\theta$$"
   ]
  },
  {
   "cell_type": "code",
   "execution_count": 50,
   "metadata": {},
   "outputs": [
    {
     "name": "stdout",
     "output_type": "stream",
     "text": [
      "[[   1  620    1    1]\n",
      " [   1 3280    4    2]\n",
      " [   1 1900    2    2]\n",
      " [   1 1320    3    3]]\n",
      "[[526.10752688]]\n"
     ]
    }
   ],
   "source": [
    "# Define X5\n",
    "#YOUR CODE \n",
    "x5 = np.array([[1,3000,5,1]])\n",
    "print(x)\n",
    "# Compute Y5\n",
    "# You should find a Price of 526,000 $\n",
    "y5 = np.matmul(x5,theta)\n",
    "print(y5)"
   ]
  },
  {
   "cell_type": "markdown",
   "metadata": {},
   "source": [
    "## (5) Reality-check"
   ]
  },
  {
   "cell_type": "markdown",
   "metadata": {},
   "source": [
    "❗️ In reality, a flat price is never entirely determined by its surface, number of bedrooms and  the floor number.\n",
    "\n",
    "Let's imagine that we measure the real price $Y_{flat5}$ at $700,000$ instead of $526,000$ as predicted. \n",
    "\n",
    "🤨 Could we take this new information into account to improve our model?\n",
    "\n",
    "❓ Update the linear system of equations $ \\large X\\theta = Y$ to incorporate the information carried out by this new flat."
   ]
  },
  {
   "cell_type": "code",
   "execution_count": 51,
   "metadata": {},
   "outputs": [
    {
     "name": "stdout",
     "output_type": "stream",
     "text": [
      "[[   1 3000    5    1]\n",
      " [   1  620    1    1]\n",
      " [   1 3280    4    2]\n",
      " [   1 1900    2    2]\n",
      " [   1 1320    3    3]]\n"
     ]
    }
   ],
   "source": [
    "# Create the new matrix of features X of shape (5,4)\n",
    "\n",
    "# Print the shape to double-check the shape is indeed (5,4)\n",
    "x.shape\n",
    "# YOUR CODE\n",
    "X2 = np.r_[x5,x]\n",
    "print(X2)\n"
   ]
  },
  {
   "cell_type": "code",
   "execution_count": 56,
   "metadata": {},
   "outputs": [
    {
     "name": "stdout",
     "output_type": "stream",
     "text": [
      "[[526.10752688]\n",
      " [244.        ]\n",
      " [671.        ]\n",
      " [504.        ]\n",
      " [510.        ]]\n"
     ]
    }
   ],
   "source": [
    "# Create new Y of shape (5,1)\n",
    "# YOUR CODE\n",
    "Y2 = np.r_[y5,Y]\n",
    "print(Y2)\n"
   ]
  },
  {
   "cell_type": "markdown",
   "metadata": {},
   "source": [
    "👉 Let's try to predict the price of a 6th flat from our updated model.  \n",
    "To do so, try to solve $\\theta$ from $X\\theta = Y$ using [`numpy.linalg.solve`](https://docs.scipy.org/doc/numpy/reference/generated/numpy.linalg.solve.html).\n",
    "\n",
    "😲 What is going on? What can you conclude?"
   ]
  },
  {
   "cell_type": "code",
   "execution_count": 2,
   "metadata": {
    "tags": []
   },
   "outputs": [
    {
     "ename": "NameError",
     "evalue": "name 'np' is not defined",
     "output_type": "error",
     "traceback": [
      "\u001b[1;31m---------------------------------------------------------------------------\u001b[0m",
      "\u001b[1;31mNameError\u001b[0m                                 Traceback (most recent call last)",
      "Input \u001b[1;32mIn [2]\u001b[0m, in \u001b[0;36m<cell line: 2>\u001b[1;34m()\u001b[0m\n\u001b[0;32m      1\u001b[0m \u001b[38;5;66;03m#Y2 = np.linalg.matrix_power(Y2,2)\u001b[39;00m\n\u001b[1;32m----> 2\u001b[0m theta2 \u001b[38;5;241m=\u001b[39m \u001b[43mnp\u001b[49m\u001b[38;5;241m.\u001b[39mlinalg\u001b[38;5;241m.\u001b[39msolve(X2, Y2)\n",
      "\u001b[1;31mNameError\u001b[0m: name 'np' is not defined"
     ]
    }
   ],
   "source": [
    "#Y2 = np.linalg.matrix_power(Y2,2)\n",
    "np.linalg.solve(X2, Y2)\n",
    "# print(theta2)"
   ]
  },
  {
   "cell_type": "markdown",
   "metadata": {},
   "source": [
    "<details>\n",
    "    <summary><i>Explanations</i></summary>\n",
    "\n",
    "$ \\large X$ is not a square matrix \n",
    "\n",
    "$ \\large  \\rightarrow$  therefore it cannot be inversible: $ \\large  X^{-1}$ does not exist\n",
    " \n",
    "$ \\large  \\rightarrow$ $ \\large \\theta$ cannot be computed from $ \\large  Y = X\\theta$ \n",
    "    \n",
    "😕 Our initial approach, which consists in finding a closed mathematical formula to compute a predicted price of a flat as a linear combination of only 3 features **does not hold true** for our 5 observed flats. \n",
    "\n",
    "😉 ***Trust the process !*** \n",
    "\n",
    "$ \\large  \\rightarrow$ Instead, we will learn in the coming weeks methods to **approximate** a flat price based on these features.\n",
    "\n",
    "For instance, instead of solving $\\large  Y = X\\theta$ we could find $ \\large  \\hat{\\theta}$ that minimizes the error $ \\large  e = X\\hat{\\theta} - Y $: This approach is called a **Linear Regression model**\n",
    "\n",
    "This new estimator can then be used to give an **approximate** estimation of the price on any new flats with $ \\large  Y_{flat_6} = X_{flat_6} \\hat{\\theta}$ \n",
    "\n",
    "</details>"
   ]
  },
  {
   "cell_type": "markdown",
   "metadata": {},
   "source": [
    "🏁 Congratulations! \n",
    "\n",
    "💾 Don't forget to save your notebook before moving on to the next challenge! "
   ]
  }
 ],
 "metadata": {
  "kernelspec": {
   "display_name": "Python 3 (ipykernel)",
   "language": "python",
   "name": "python3"
  },
  "language_info": {
   "codemirror_mode": {
    "name": "ipython",
    "version": 3
   },
   "file_extension": ".py",
   "mimetype": "text/x-python",
   "name": "python",
   "nbconvert_exporter": "python",
   "pygments_lexer": "ipython3",
   "version": "3.9.12"
  },
  "vscode": {
   "interpreter": {
    "hash": "cf92aa13fedf815d5c8dd192b8d835913fde3e8bc926b2a0ad6cc74ef2ba3ca2"
   }
  }
 },
 "nbformat": 4,
 "nbformat_minor": 4
}
